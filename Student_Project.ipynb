{
 "cells": [
  {
   "cell_type": "code",
   "execution_count": 1,
   "id": "560e8759-43d4-41b9-b765-1ed78d6b7f81",
   "metadata": {},
   "outputs": [],
   "source": [
    "with open(\"miracle_in_the_andes.txt\", \"r\", encoding=\"utf8\") as file:\n",
    "    book = file.read()"
   ]
  },
  {
   "cell_type": "code",
   "execution_count": 2,
   "id": "11edda66-bf8a-4197-a6e2-886d18270984",
   "metadata": {},
   "outputs": [],
   "source": [
    "import re"
   ]
  },
  {
   "cell_type": "markdown",
   "id": "6bf0af35-d452-4515-b7c1-56dda4ba30f7",
   "metadata": {},
   "source": [
    "#### Extract paragraphs where 'love' was used"
   ]
  },
  {
   "cell_type": "code",
   "execution_count": 3,
   "id": "c6cf7b7f-5d9a-4158-972b-7e0cac865179",
   "metadata": {},
   "outputs": [
    {
     "data": {
      "text/plain": [
       "40"
      ]
     },
     "execution_count": 3,
     "metadata": {},
     "output_type": "execute_result"
    }
   ],
   "source": [
    "# Split text into paragraphs based on double line breaks\n",
    "paragraphs = re.split(r'\\n\\s*\\n', book)\n",
    "    \n",
    "# Initialize a list to store matching paragraphs\n",
    "matched_paragraphs = []\n",
    "    \n",
    "# Regex pattern to match the keyword (case insensitive)\n",
    "pattern =re.compile(\"[A-Z]{1}[^.]*[^A-Za-z]+love[^A-Za-z]+[^.]*.\")\n",
    "    \n",
    "# Iterate over each paragraph and check if it contains the keyword\n",
    "for paragraph in paragraphs:\n",
    "    if re.search(pattern, paragraph):\n",
    "        matched_paragraphs.append(paragraph)\n",
    "\n",
    "len(matched_paragraphs)"
   ]
  },
  {
   "cell_type": "markdown",
   "id": "407cdceb-213d-497a-b03a-0824f2f1ce05",
   "metadata": {},
   "source": [
    "#### Extract chapter titles"
   ]
  },
  {
   "cell_type": "code",
   "execution_count": 4,
   "id": "6048ab21-688c-4cae-85a4-0f22ae9263cc",
   "metadata": {},
   "outputs": [
    {
     "data": {
      "text/plain": [
       "['Before',\n",
       " 'Everything Precious',\n",
       " 'A Promise',\n",
       " 'Breathe Once More',\n",
       " 'Abandoned',\n",
       " 'Tomb',\n",
       " 'East',\n",
       " 'The Opposite of Death',\n",
       " 'I See a Man',\n",
       " 'After']"
      ]
     },
     "execution_count": 4,
     "metadata": {},
     "output_type": "execute_result"
    }
   ],
   "source": [
    "# Split text into paragraphs based on double line breaks\n",
    "pattern = re.compile('Chapter [0-9]*[\\n\\n]*([A-Za-z ]*)')\n",
    "findings = re.findall(pattern, book)\n",
    "findings"
   ]
  },
  {
   "cell_type": "markdown",
   "id": "67870b72-8dd5-4f44-8458-cf98d7a1328d",
   "metadata": {},
   "source": [
    "#### Function that finds occurence of any word"
   ]
  },
  {
   "cell_type": "code",
   "execution_count": 5,
   "id": "c06bf2d0-a932-4f47-9030-19088ff6b26d",
   "metadata": {},
   "outputs": [],
   "source": [
    "def check_word_occurence(word):\n",
    "    pattern = re.compile(r'[A-Z][^.]*[^A-Za-z]+\\b{}\\b[^A-Za-z]+[^.]*\\.'.format(re.escape(word)), re.IGNORECASE)\n",
    "    findings =re.findall(pattern, book)\n",
    "    word_count = len(findings)\n",
    "    if word_count > 0:\n",
    "        print(word_count)\n",
    "    else:\n",
    "        print(\"The book does not contain the word :\", word)"
   ]
  },
  {
   "cell_type": "markdown",
   "id": "5a5daa27-386c-4dae-8945-a693cfd97d1e",
   "metadata": {},
   "source": [
    "#### Call the function"
   ]
  },
  {
   "cell_type": "code",
   "execution_count": 7,
   "id": "a636e6b5-d79b-4d35-8a61-e7f2a42e3d9c",
   "metadata": {},
   "outputs": [
    {
     "name": "stdout",
     "output_type": "stream",
     "text": [
      "The book does not contain the word : hate\n"
     ]
    }
   ],
   "source": [
    "word = \"hate\"\n",
    "check_word_occurence(word)"
   ]
  }
 ],
 "metadata": {
  "kernelspec": {
   "display_name": "Python 3 (ipykernel)",
   "language": "python",
   "name": "python3"
  },
  "language_info": {
   "codemirror_mode": {
    "name": "ipython",
    "version": 3
   },
   "file_extension": ".py",
   "mimetype": "text/x-python",
   "name": "python",
   "nbconvert_exporter": "python",
   "pygments_lexer": "ipython3",
   "version": "3.12.4"
  }
 },
 "nbformat": 4,
 "nbformat_minor": 5
}
