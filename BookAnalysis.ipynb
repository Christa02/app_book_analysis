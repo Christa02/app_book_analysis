{
 "cells": [
  {
   "cell_type": "markdown",
   "id": "ac7869dc-b403-4f1a-914a-8b2ce49b04e9",
   "metadata": {},
   "source": [
    "#### Load the text in the book"
   ]
  },
  {
   "cell_type": "code",
   "execution_count": 1,
   "id": "fb0560fc-958c-48fa-a01f-fc32850182b2",
   "metadata": {},
   "outputs": [],
   "source": [
    "with open('miracle_in_the_andes.txt','r', encoding=\"utf8\") as file:\n",
    "    book = file.read()"
   ]
  },
  {
   "cell_type": "code",
   "execution_count": 2,
   "id": "91ed43ec-7d71-4ad1-8cf9-09a07e31e6c2",
   "metadata": {},
   "outputs": [
    {
     "data": {
      "text/plain": [
       "str"
      ]
     },
     "execution_count": 2,
     "metadata": {},
     "output_type": "execute_result"
    }
   ],
   "source": [
    "type(book)"
   ]
  },
  {
   "cell_type": "code",
   "execution_count": 3,
   "id": "14e5fe01-ad50-4cf3-b90b-34f70e02adb7",
   "metadata": {},
   "outputs": [],
   "source": [
    "import re"
   ]
  },
  {
   "cell_type": "markdown",
   "id": "b16fe147-2e13-4775-aadc-0cb8bb952858",
   "metadata": {},
   "source": [
    "#### Find no. of chapters in the book"
   ]
  },
  {
   "cell_type": "code",
   "execution_count": 4,
   "id": "0b767edb-ff09-487d-8fb5-66cee98a3d5d",
   "metadata": {
    "jupyter": {
     "source_hidden": true
    }
   },
   "outputs": [
    {
     "data": {
      "text/plain": [
       "['Chapter 1',\n",
       " 'Chapter 2',\n",
       " 'Chapter 3',\n",
       " 'Chapter 4',\n",
       " 'Chapter 5',\n",
       " 'Chapter 6',\n",
       " 'Chapter 7',\n",
       " 'Chapter 8',\n",
       " 'Chapter 9',\n",
       " 'Chapter 10']"
      ]
     },
     "execution_count": 4,
     "metadata": {},
     "output_type": "execute_result"
    }
   ],
   "source": [
    "pattern = re.compile(\"Chapter [0-9]+\")\n",
    "findings = re.findall(pattern, book)\n",
    "findings"
   ]
  },
  {
   "cell_type": "code",
   "execution_count": 5,
   "id": "3281b897-c79c-480b-846b-d04d76c4c8a2",
   "metadata": {},
   "outputs": [
    {
     "data": {
      "text/plain": [
       "10"
      ]
     },
     "execution_count": 5,
     "metadata": {},
     "output_type": "execute_result"
    }
   ],
   "source": [
    "len(findings)"
   ]
  },
  {
   "cell_type": "markdown",
   "id": "5cb52aa0-2d61-4d8f-b8a4-ad88c9a27bff",
   "metadata": {},
   "source": [
    "#### Find the no. of occurences of 'love'"
   ]
  },
  {
   "cell_type": "code",
   "execution_count": 6,
   "id": "19df2ecc-cbab-467f-afe9-b24981cec333",
   "metadata": {},
   "outputs": [
    {
     "data": {
      "text/plain": [
       "67"
      ]
     },
     "execution_count": 6,
     "metadata": {},
     "output_type": "execute_result"
    }
   ],
   "source": [
    "pattern = re.compile(\"[A-Z]{1}[^.]*[^A-Za-z]+love[^A-Za-z]+[^.]*.\")\n",
    "findings =re.findall(pattern, book)\n",
    "len(findings)\n",
    "# findings"
   ]
  },
  {
   "cell_type": "markdown",
   "id": "861ca510-40c4-4a6e-86b5-f3b19e556c12",
   "metadata": {},
   "source": [
    "#### Find the most used words"
   ]
  },
  {
   "cell_type": "code",
   "execution_count": 7,
   "id": "f0211319-e467-4b85-9c92-42f0c2e488f5",
   "metadata": {},
   "outputs": [
    {
     "data": {
      "text/plain": [
       "['chapter', 'before', 'it', 'was', 'friday']"
      ]
     },
     "execution_count": 7,
     "metadata": {},
     "output_type": "execute_result"
    }
   ],
   "source": [
    "pattern = re.compile(\"[A-Za-z]+\")\n",
    "findings = re.findall(pattern, book.lower())\n",
    "findings[:5]"
   ]
  },
  {
   "cell_type": "code",
   "execution_count": 8,
   "id": "1d9072f7-17ea-4126-b8e7-cb1b0f7422d1",
   "metadata": {},
   "outputs": [],
   "source": [
    "d = {}\n",
    "for each in findings:\n",
    "    if each in d.keys():\n",
    "        d[each] = d[each] + 1\n",
    "    else:\n",
    "        d[each] = 1"
   ]
  },
  {
   "cell_type": "code",
   "execution_count": 15,
   "id": "6d2c71e2-eec5-4710-9215-218279c65b41",
   "metadata": {},
   "outputs": [
    {
     "data": {
      "text/plain": [
       "6992"
      ]
     },
     "execution_count": 15,
     "metadata": {},
     "output_type": "execute_result"
    }
   ],
   "source": [
    "d_list = [(value, key) for key, value in d.items()]\n",
    "len(sorted(d_list, reverse=True))\n",
    "# sorted(d_list, reverse=True)"
   ]
  },
  {
   "cell_type": "markdown",
   "id": "f1320670-c2e9-45f6-b982-5f60e85d9b52",
   "metadata": {},
   "source": [
    "#### Find the most used words (Non-articles/ Stop Words)"
   ]
  },
  {
   "cell_type": "code",
   "execution_count": 11,
   "id": "f02a53a4-4588-419a-a957-8c1bed3d14f0",
   "metadata": {},
   "outputs": [],
   "source": [
    "import nltk\n",
    "from nltk.corpus import stopwords\n",
    "\n",
    "english_stopwords = stopwords.words('english')"
   ]
  },
  {
   "cell_type": "code",
   "execution_count": 16,
   "id": "06c95c12-001c-4a3b-aa50-eaaefec400a2",
   "metadata": {},
   "outputs": [
    {
     "data": {
      "text/plain": [
       "[(575, 'would'),\n",
       " (519, 'us'),\n",
       " (292, 'said'),\n",
       " (284, 'roberto'),\n",
       " (252, 'could'),\n",
       " (249, 'one'),\n",
       " (227, 'snow'),\n",
       " (183, 'mountain'),\n",
       " (182, 'time'),\n",
       " (165, 'like')]"
      ]
     },
     "execution_count": 16,
     "metadata": {},
     "output_type": "execute_result"
    }
   ],
   "source": [
    "filtered_words = []\n",
    "for count, word in d_list:\n",
    "    if word not in english_stopwords:\n",
    "        filtered_words.append((count, word))\n",
    "sorted(filtered_words, reverse=True)[:10]\n",
    "# sorted(filtered_words, reverse=True)"
   ]
  },
  {
   "cell_type": "markdown",
   "id": "f4b7bb9b-6a87-46af-b547-63f16213e37e",
   "metadata": {},
   "source": [
    "#### Sentiment Intensity Analyzer Example"
   ]
  },
  {
   "cell_type": "code",
   "execution_count": 20,
   "id": "582cbdcc-9ac7-4afc-8f24-2400fc3a2608",
   "metadata": {},
   "outputs": [
    {
     "data": {
      "text/plain": [
       "{'neg': 0.0, 'neu': 0.443, 'pos': 0.557, 'compound': 0.8762}"
      ]
     },
     "execution_count": 20,
     "metadata": {},
     "output_type": "execute_result"
    }
   ],
   "source": [
    "from nltk.sentiment import SentimentIntensityAnalyzer\n",
    "analyzer = SentimentIntensityAnalyzer()\n",
    "scores = analyzer.polarity_scores(\"Wow, There are so many trees arund. I am feeling so happy.\")\n",
    "scores"
   ]
  },
  {
   "cell_type": "code",
   "execution_count": 22,
   "id": "a6b62698-0297-418f-86d7-3dfdd1e2e4d1",
   "metadata": {},
   "outputs": [
    {
     "name": "stdout",
     "output_type": "stream",
     "text": [
      "It is a POSITIVE text.\n"
     ]
    }
   ],
   "source": [
    "if scores['pos'] > scores['neg']:\n",
    "    print(\"It is a POSITIVE text.\")\n",
    "else:\n",
    "    print(\"It is a NEGATIVE text.\")"
   ]
  },
  {
   "cell_type": "markdown",
   "id": "a38c1de9-e66f-4995-9a1a-68a4a176ef42",
   "metadata": {},
   "source": [
    "#### Chapter-wise Sentiment Intensity Analyzer"
   ]
  },
  {
   "cell_type": "code",
   "execution_count": 28,
   "id": "4dd8a7a0-a7ea-4cef-a26c-5a905a3373ae",
   "metadata": {},
   "outputs": [
    {
     "name": "stdout",
     "output_type": "stream",
     "text": [
      "Chapter 1: {'neg': 0.061, 'neu': 0.779, 'pos': 0.16, 'compound': 1.0}\n",
      "Chapter 2: {'neg': 0.12, 'neu': 0.726, 'pos': 0.154, 'compound': 0.9991}\n",
      "Chapter 3: {'neg': 0.145, 'neu': 0.751, 'pos': 0.105, 'compound': -0.9999}\n",
      "Chapter 4: {'neg': 0.141, 'neu': 0.721, 'pos': 0.138, 'compound': -0.9963}\n",
      "Chapter 5: {'neg': 0.118, 'neu': 0.742, 'pos': 0.141, 'compound': 0.9997}\n",
      "Chapter 6: {'neg': 0.124, 'neu': 0.761, 'pos': 0.115, 'compound': -0.9979}\n",
      "Chapter 7: {'neg': 0.136, 'neu': 0.761, 'pos': 0.103, 'compound': -0.9999}\n",
      "Chapter 8: {'neg': 0.12, 'neu': 0.786, 'pos': 0.094, 'compound': -0.9998}\n",
      "Chapter 9: {'neg': 0.097, 'neu': 0.824, 'pos': 0.079, 'compound': -0.9996}\n",
      "Chapter 10: {'neg': 0.086, 'neu': 0.733, 'pos': 0.181, 'compound': 1.0}\n"
     ]
    }
   ],
   "source": [
    "pattern = re.compile('Chapter [0-9]+')\n",
    "chapter_content_list = re.split(pattern, book)\n",
    "for index, content in enumerate(chapter_content_list[1:]):\n",
    "    scores = analyzer.polarity_scores(content)\n",
    "    print(f\"Chapter {index + 1}:\",scores)"
   ]
  }
 ],
 "metadata": {
  "kernelspec": {
   "display_name": "Python 3 (ipykernel)",
   "language": "python",
   "name": "python3"
  },
  "language_info": {
   "codemirror_mode": {
    "name": "ipython",
    "version": 3
   },
   "file_extension": ".py",
   "mimetype": "text/x-python",
   "name": "python",
   "nbconvert_exporter": "python",
   "pygments_lexer": "ipython3",
   "version": "3.12.4"
  }
 },
 "nbformat": 4,
 "nbformat_minor": 5
}
